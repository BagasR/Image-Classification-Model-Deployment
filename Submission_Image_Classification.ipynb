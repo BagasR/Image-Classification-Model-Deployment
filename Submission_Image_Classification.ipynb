{
  "nbformat": 4,
  "nbformat_minor": 0,
  "metadata": {
    "colab": {
      "provenance": []
    },
    "kernelspec": {
      "name": "python3",
      "display_name": "Python 3"
    },
    "language_info": {
      "name": "python"
    }
  },
  "cells": [
    {
      "cell_type": "markdown",
      "source": [
        "# **Classification**\n",
        "\n",
        "Nama : Bagaskara"
      ],
      "metadata": {
        "id": "RQCU7q-S9-A-"
      }
    },
    {
      "cell_type": "code",
      "execution_count": 1,
      "metadata": {
        "id": "FGFRj0jd4fhs"
      },
      "outputs": [],
      "source": [
        "!pip install -q kaggle"
      ]
    },
    {
      "cell_type": "code",
      "source": [
        "from google.colab import files\n",
        "#Upload Kaggle API Key\n",
        "files.upload()"
      ],
      "metadata": {
        "colab": {
          "base_uri": "https://localhost:8080/",
          "height": 89
        },
        "id": "KjWbY1uE5pBV",
        "outputId": "957a84ef-d42d-4038-c1a3-2e37cd7c35d4"
      },
      "execution_count": 2,
      "outputs": [
        {
          "output_type": "display_data",
          "data": {
            "text/plain": [
              "<IPython.core.display.HTML object>"
            ],
            "text/html": [
              "\n",
              "     <input type=\"file\" id=\"files-6f55c691-e8ac-4e2f-8fd9-685cd47a4be2\" name=\"files[]\" multiple disabled\n",
              "        style=\"border:none\" />\n",
              "     <output id=\"result-6f55c691-e8ac-4e2f-8fd9-685cd47a4be2\">\n",
              "      Upload widget is only available when the cell has been executed in the\n",
              "      current browser session. Please rerun this cell to enable.\n",
              "      </output>\n",
              "      <script>// Copyright 2017 Google LLC\n",
              "//\n",
              "// Licensed under the Apache License, Version 2.0 (the \"License\");\n",
              "// you may not use this file except in compliance with the License.\n",
              "// You may obtain a copy of the License at\n",
              "//\n",
              "//      http://www.apache.org/licenses/LICENSE-2.0\n",
              "//\n",
              "// Unless required by applicable law or agreed to in writing, software\n",
              "// distributed under the License is distributed on an \"AS IS\" BASIS,\n",
              "// WITHOUT WARRANTIES OR CONDITIONS OF ANY KIND, either express or implied.\n",
              "// See the License for the specific language governing permissions and\n",
              "// limitations under the License.\n",
              "\n",
              "/**\n",
              " * @fileoverview Helpers for google.colab Python module.\n",
              " */\n",
              "(function(scope) {\n",
              "function span(text, styleAttributes = {}) {\n",
              "  const element = document.createElement('span');\n",
              "  element.textContent = text;\n",
              "  for (const key of Object.keys(styleAttributes)) {\n",
              "    element.style[key] = styleAttributes[key];\n",
              "  }\n",
              "  return element;\n",
              "}\n",
              "\n",
              "// Max number of bytes which will be uploaded at a time.\n",
              "const MAX_PAYLOAD_SIZE = 100 * 1024;\n",
              "\n",
              "function _uploadFiles(inputId, outputId) {\n",
              "  const steps = uploadFilesStep(inputId, outputId);\n",
              "  const outputElement = document.getElementById(outputId);\n",
              "  // Cache steps on the outputElement to make it available for the next call\n",
              "  // to uploadFilesContinue from Python.\n",
              "  outputElement.steps = steps;\n",
              "\n",
              "  return _uploadFilesContinue(outputId);\n",
              "}\n",
              "\n",
              "// This is roughly an async generator (not supported in the browser yet),\n",
              "// where there are multiple asynchronous steps and the Python side is going\n",
              "// to poll for completion of each step.\n",
              "// This uses a Promise to block the python side on completion of each step,\n",
              "// then passes the result of the previous step as the input to the next step.\n",
              "function _uploadFilesContinue(outputId) {\n",
              "  const outputElement = document.getElementById(outputId);\n",
              "  const steps = outputElement.steps;\n",
              "\n",
              "  const next = steps.next(outputElement.lastPromiseValue);\n",
              "  return Promise.resolve(next.value.promise).then((value) => {\n",
              "    // Cache the last promise value to make it available to the next\n",
              "    // step of the generator.\n",
              "    outputElement.lastPromiseValue = value;\n",
              "    return next.value.response;\n",
              "  });\n",
              "}\n",
              "\n",
              "/**\n",
              " * Generator function which is called between each async step of the upload\n",
              " * process.\n",
              " * @param {string} inputId Element ID of the input file picker element.\n",
              " * @param {string} outputId Element ID of the output display.\n",
              " * @return {!Iterable<!Object>} Iterable of next steps.\n",
              " */\n",
              "function* uploadFilesStep(inputId, outputId) {\n",
              "  const inputElement = document.getElementById(inputId);\n",
              "  inputElement.disabled = false;\n",
              "\n",
              "  const outputElement = document.getElementById(outputId);\n",
              "  outputElement.innerHTML = '';\n",
              "\n",
              "  const pickedPromise = new Promise((resolve) => {\n",
              "    inputElement.addEventListener('change', (e) => {\n",
              "      resolve(e.target.files);\n",
              "    });\n",
              "  });\n",
              "\n",
              "  const cancel = document.createElement('button');\n",
              "  inputElement.parentElement.appendChild(cancel);\n",
              "  cancel.textContent = 'Cancel upload';\n",
              "  const cancelPromise = new Promise((resolve) => {\n",
              "    cancel.onclick = () => {\n",
              "      resolve(null);\n",
              "    };\n",
              "  });\n",
              "\n",
              "  // Wait for the user to pick the files.\n",
              "  const files = yield {\n",
              "    promise: Promise.race([pickedPromise, cancelPromise]),\n",
              "    response: {\n",
              "      action: 'starting',\n",
              "    }\n",
              "  };\n",
              "\n",
              "  cancel.remove();\n",
              "\n",
              "  // Disable the input element since further picks are not allowed.\n",
              "  inputElement.disabled = true;\n",
              "\n",
              "  if (!files) {\n",
              "    return {\n",
              "      response: {\n",
              "        action: 'complete',\n",
              "      }\n",
              "    };\n",
              "  }\n",
              "\n",
              "  for (const file of files) {\n",
              "    const li = document.createElement('li');\n",
              "    li.append(span(file.name, {fontWeight: 'bold'}));\n",
              "    li.append(span(\n",
              "        `(${file.type || 'n/a'}) - ${file.size} bytes, ` +\n",
              "        `last modified: ${\n",
              "            file.lastModifiedDate ? file.lastModifiedDate.toLocaleDateString() :\n",
              "                                    'n/a'} - `));\n",
              "    const percent = span('0% done');\n",
              "    li.appendChild(percent);\n",
              "\n",
              "    outputElement.appendChild(li);\n",
              "\n",
              "    const fileDataPromise = new Promise((resolve) => {\n",
              "      const reader = new FileReader();\n",
              "      reader.onload = (e) => {\n",
              "        resolve(e.target.result);\n",
              "      };\n",
              "      reader.readAsArrayBuffer(file);\n",
              "    });\n",
              "    // Wait for the data to be ready.\n",
              "    let fileData = yield {\n",
              "      promise: fileDataPromise,\n",
              "      response: {\n",
              "        action: 'continue',\n",
              "      }\n",
              "    };\n",
              "\n",
              "    // Use a chunked sending to avoid message size limits. See b/62115660.\n",
              "    let position = 0;\n",
              "    do {\n",
              "      const length = Math.min(fileData.byteLength - position, MAX_PAYLOAD_SIZE);\n",
              "      const chunk = new Uint8Array(fileData, position, length);\n",
              "      position += length;\n",
              "\n",
              "      const base64 = btoa(String.fromCharCode.apply(null, chunk));\n",
              "      yield {\n",
              "        response: {\n",
              "          action: 'append',\n",
              "          file: file.name,\n",
              "          data: base64,\n",
              "        },\n",
              "      };\n",
              "\n",
              "      let percentDone = fileData.byteLength === 0 ?\n",
              "          100 :\n",
              "          Math.round((position / fileData.byteLength) * 100);\n",
              "      percent.textContent = `${percentDone}% done`;\n",
              "\n",
              "    } while (position < fileData.byteLength);\n",
              "  }\n",
              "\n",
              "  // All done.\n",
              "  yield {\n",
              "    response: {\n",
              "      action: 'complete',\n",
              "    }\n",
              "  };\n",
              "}\n",
              "\n",
              "scope.google = scope.google || {};\n",
              "scope.google.colab = scope.google.colab || {};\n",
              "scope.google.colab._files = {\n",
              "  _uploadFiles,\n",
              "  _uploadFilesContinue,\n",
              "};\n",
              "})(self);\n",
              "</script> "
            ]
          },
          "metadata": {}
        },
        {
          "output_type": "stream",
          "name": "stdout",
          "text": [
            "Saving kaggle.json to kaggle.json\n"
          ]
        },
        {
          "output_type": "execute_result",
          "data": {
            "text/plain": [
              "{'kaggle.json': b'{\"username\":\"bkdr23\",\"key\":\"504c387f809c2f78a8411144e5d099bd\"}'}"
            ]
          },
          "metadata": {},
          "execution_count": 2
        }
      ]
    },
    {
      "cell_type": "code",
      "source": [
        "!mkdir ~/.kaggle #make new directory in root folder\n",
        "!cp kaggle.json ~/.kaggle/ #copy and paste kaggle API key to new directory\n",
        "!chmod 600 ~/.kaggle/kaggle.json #permission\n",
        "!kaggle datasets list"
      ],
      "metadata": {
        "colab": {
          "base_uri": "https://localhost:8080/"
        },
        "id": "vtN4TkFZ54Xo",
        "outputId": "951449f2-4ad0-48ea-8b9a-7ab1335b063e"
      },
      "execution_count": 3,
      "outputs": [
        {
          "output_type": "stream",
          "name": "stdout",
          "text": [
            "ref                                                title                                 size  lastUpdated          downloadCount  voteCount  usabilityRating  \n",
            "-------------------------------------------------  -----------------------------------  -----  -------------------  -------------  ---------  ---------------  \n",
            "thedrcat/daigt-v2-train-dataset                    DAIGT V2 Train Dataset                29MB  2023-11-16 01:38:36           2946        249  1.0              \n",
            "rishabhkarn/ipl-auction-2023                       IPL Auction 2023                       4KB  2023-12-24 10:45:03            602         25  0.9411765        \n",
            "bhavikjikadara/car-price-prediction-dataset        Car Price Prediction Dataset           4KB  2023-12-23 07:07:54           1159         33  0.9411765        \n",
            "thedevastator/global-video-game-sales-and-reviews  Global Video Game Sales and Reviews   56KB  2023-12-20 06:36:51           1134         30  1.0              \n",
            "thedrcat/daigt-proper-train-dataset                DAIGT Proper Train Dataset           119MB  2023-11-05 14:03:25           2311        181  1.0              \n",
            "muhammadbinimran/housing-price-prediction-data     Housing Price Prediction Data        763KB  2023-11-21 17:56:32          12525        218  1.0              \n",
            "vassyesboy/netflix-engagement-jan-jun-23           Netflix Engagement (Jan - Jun 23) +    2MB  2023-12-15 11:58:07           1194         30  1.0              \n",
            "henryshan/2023-data-scientists-salary              2023 Data Scientists Salary           25KB  2023-12-14 10:14:34           2163         47  1.0              \n",
            "tonygordonjr/spotify-dataset-2023                  Spotify Dataset 2023                  96MB  2023-12-20 23:37:29            974         30  1.0              \n",
            "henryshan/starbucks                                Starbucks                              5KB  2023-12-06 03:07:49           4363         97  1.0              \n",
            "thedevastator/global-video-game-sales-and-ratings  Global Video Game Sales and Ratings   71KB  2023-12-20 06:46:32           1630         36  0.9411765        \n",
            "thedevastator/netflix-imdb-scores                  Netflix IMDB Scores                  699KB  2023-12-03 14:10:34           5383         95  1.0              \n",
            "thedevastator/film-genre-statistics                Film Genre Statistics                 36KB  2023-12-19 06:45:48           1091         29  1.0              \n",
            "elvinrustam/books-dataset                          Books Dataset                         53MB  2023-12-20 20:46:34           1018         30  1.0              \n",
            "thedrcat/daigt-external-train-dataset              DAIGT External Train Dataset         435MB  2023-11-06 17:10:37            458         53  1.0              \n",
            "andreinovikov/air-pollution                        Air pollution                         96KB  2023-12-05 12:00:34           1131         23  1.0              \n",
            "mawro73/social-influence-on-shopping               Social Influence on Shopping          12KB  2023-12-21 09:25:31            566         25  1.0              \n",
            "dansbecker/melbourne-housing-snapshot              Melbourne Housing Snapshot           451KB  2018-06-05 12:52:24         134165       1407  0.7058824        \n",
            "thedrcat/daigt-v3-train-dataset                    daigt-v3-train-dataset                83MB  2023-12-28 04:36:42            189         42  1.0              \n",
            "jacksondivakarr/phone-classification-dataset       Phone Classification Dataset         205KB  2023-12-12 15:21:07           1893         39  1.0              \n"
          ]
        }
      ]
    },
    {
      "cell_type": "code",
      "source": [
        "!kaggle datasets download -d muratkokludataset/rice-image-dataset"
      ],
      "metadata": {
        "colab": {
          "base_uri": "https://localhost:8080/"
        },
        "id": "LzBp5kwb6STV",
        "outputId": "070b198e-66fb-4997-9011-5ce4ee1f14b6"
      },
      "execution_count": 4,
      "outputs": [
        {
          "output_type": "stream",
          "name": "stdout",
          "text": [
            "Downloading rice-image-dataset.zip to /content\n",
            " 92% 202M/219M [00:01<00:00, 92.2MB/s]\n",
            "100% 219M/219M [00:01<00:00, 132MB/s] \n"
          ]
        }
      ]
    },
    {
      "cell_type": "code",
      "source": [
        "import zipfile,os"
      ],
      "metadata": {
        "id": "j3qXIPKC77jE"
      },
      "execution_count": 8,
      "outputs": []
    },
    {
      "cell_type": "code",
      "source": [
        "#Extract File\n",
        "zipPath = '../content/rice-image-dataset.zip' #zip path in local\n",
        "zipFile = zipfile.ZipFile(zipPath, 'r')\n",
        "zipFile.extractall('../content/RiceImage') #extract to new directory\n",
        "zipFile.close() #close connection to object"
      ],
      "metadata": {
        "id": "MYPl613k78kf"
      },
      "execution_count": 6,
      "outputs": []
    },
    {
      "cell_type": "code",
      "source": [
        "base_dir = '/content/RiceImage/Rice_Image_Dataset'"
      ],
      "metadata": {
        "id": "0QasVlzZ8UpP"
      },
      "execution_count": 14,
      "outputs": []
    },
    {
      "cell_type": "code",
      "source": [
        "ar_dir = os.path.join(base_dir,'Arborio')\n",
        "bas_dir = os.path.join(base_dir, 'Basmati')\n",
        "ip_dir = os.path.join(base_dir, 'Ipsala')\n",
        "ja_dir = os.path.join(base_dir, 'Jasmine')\n",
        "ka_dir = os.path.join(base_dir, 'Karacadag')"
      ],
      "metadata": {
        "id": "tuTZPNBO9L9A"
      },
      "execution_count": 15,
      "outputs": []
    },
    {
      "cell_type": "code",
      "source": [
        "Total_arborio = len(os.listdir(ar_dir))\n",
        "Total_basmati = len(os.listdir(bas_dir))\n",
        "Total_ipsala = len(os.listdir(ip_dir))\n",
        "Total_jasmine = len(os.listdir(ja_dir))\n",
        "Total_karacadag = len(os.listdir(ka_dir))\n",
        "\n",
        "# Mencetak jumlah data\n",
        "print(\"Total Data Arborio Image     : \",Total_arborio)\n",
        "print(\"Total Data Basmati Image     : \",Total_basmati)\n",
        "print(\"Total Data Ipsala Image      : \",Total_ipsala)\n",
        "print(\"Total Data Jasmine Image     : \",Total_jasmine)\n",
        "print(\"Total Data Karacadag Image   : \",Total_karacadag)"
      ],
      "metadata": {
        "colab": {
          "base_uri": "https://localhost:8080/"
        },
        "id": "hsnblJUX9P_J",
        "outputId": "2412436c-b874-438c-ab4d-bb96a489bfa6"
      },
      "execution_count": 17,
      "outputs": [
        {
          "output_type": "stream",
          "name": "stdout",
          "text": [
            "Total Data Arborio Image     :  15000\n",
            "Total Data Basmati Image     :  15000\n",
            "Total Data Ipsala Image      :  15000\n",
            "Total Data Jasmine Image     :  15000\n",
            "Total Data Karacadag Image   :  15000\n"
          ]
        }
      ]
    },
    {
      "cell_type": "code",
      "source": [
        "from tensorflow.keras.preprocessing.image import ImageDataGenerator"
      ],
      "metadata": {
        "id": "pefxaKX--qgs"
      },
      "execution_count": 21,
      "outputs": []
    },
    {
      "cell_type": "code",
      "source": [
        "IMG_HEIGHT = 150\n",
        "IMG_WIDTH = 150\n",
        "BATCH_SIZE = 70"
      ],
      "metadata": {
        "id": "zlXr763f_eAX"
      },
      "execution_count": 22,
      "outputs": []
    },
    {
      "cell_type": "code",
      "source": [
        "#Ukuran validation 20% dari dataset\n",
        "val_size = 0.2"
      ],
      "metadata": {
        "id": "VIRAD6S__OsH"
      },
      "execution_count": 23,
      "outputs": []
    },
    {
      "cell_type": "code",
      "source": [
        "#Pembuatan Train dan validation\n",
        "train_datagen = ImageDataGenerator(\n",
        "    rescale=1.0/255,\n",
        "    rotation_range = 20,\n",
        "    horizontal_flip = True,\n",
        "    shear_range = 0.2,\n",
        "    fill_mode = 'nearest',\n",
        "    validation_split = val_size\n",
        ")\n",
        "val_datagen = ImageDataGenerator(\n",
        "    rescale=1.0/255,\n",
        "    validation_split = val_size\n",
        ")\n",
        "train_generator = train_datagen.flow_from_directory(\n",
        "    base_dir,\n",
        "    target_size = (IMG_HEIGHT, IMG_WIDTH),\n",
        "    batch_size = BATCH_SIZE,\n",
        "    class_mode = 'categorical',\n",
        "    subset='training'\n",
        ")\n",
        "\n",
        "val_generator = val_datagen.flow_from_directory(\n",
        "    base_dir,\n",
        "    target_size = (IMG_HEIGHT, IMG_WIDTH),\n",
        "    batch_size = BATCH_SIZE,\n",
        "    class_mode = 'categorical',\n",
        "    subset='validation'\n",
        ")\n"
      ],
      "metadata": {
        "colab": {
          "base_uri": "https://localhost:8080/"
        },
        "id": "Ttx-7MFK_4Ah",
        "outputId": "54a5ee64-a638-4565-effe-38235411fde9"
      },
      "execution_count": 24,
      "outputs": [
        {
          "output_type": "stream",
          "name": "stdout",
          "text": [
            "Found 60000 images belonging to 5 classes.\n",
            "Found 15000 images belonging to 5 classes.\n"
          ]
        }
      ]
    },
    {
      "cell_type": "code",
      "source": [
        "from tensorflow.keras.models import Sequential\n",
        "from tensorflow.keras.layers import Flatten, Dense, Conv2D, MaxPooling2D, Dropout, BatchNormalization"
      ],
      "metadata": {
        "id": "0o4whRBWA6l5"
      },
      "execution_count": 25,
      "outputs": []
    },
    {
      "cell_type": "code",
      "source": [
        "model = Sequential([\n",
        "    Conv2D(filters = 16, kernel_size = (5, 5), padding = 'Same', activation = 'relu', input_shape = (IMG_HEIGHT, IMG_WIDTH, 3)),\n",
        "    MaxPooling2D(pool_size = (2,2)),\n",
        "    Dropout(0.2),\n",
        "    BatchNormalization(),\n",
        "\n",
        "    Conv2D(filters = 32, kernel_size = (3, 3), padding = 'Same', activation = 'relu'),\n",
        "    MaxPooling2D(pool_size = (2,2), strides = (2, 2)),\n",
        "    Dropout(0.2),\n",
        "\n",
        "    Conv2D(filters = 64, kernel_size = (3, 3), padding = 'Same', activation = 'relu'),\n",
        "    MaxPooling2D(pool_size = (2,2), strides = (2, 2)),\n",
        "    Dropout(0.2),\n",
        "\n",
        "    Flatten(),\n",
        "    Dense(64, activation='relu'),\n",
        "    Dropout(0.2),\n",
        "    Dense(5, activation='softmax')\n",
        "])"
      ],
      "metadata": {
        "id": "jJvMVTMrBLAv"
      },
      "execution_count": 26,
      "outputs": []
    },
    {
      "cell_type": "code",
      "source": [
        "model.compile(optimizer='adam', loss='categorical_crossentropy', metrics=['accuracy'])\n",
        "model.summary()"
      ],
      "metadata": {
        "colab": {
          "base_uri": "https://localhost:8080/"
        },
        "id": "oue_ScsHBYSG",
        "outputId": "a9ee093b-110f-4112-ef29-e0cb9863b029"
      },
      "execution_count": 28,
      "outputs": [
        {
          "output_type": "stream",
          "name": "stdout",
          "text": [
            "Model: \"sequential\"\n",
            "_________________________________________________________________\n",
            " Layer (type)                Output Shape              Param #   \n",
            "=================================================================\n",
            " conv2d (Conv2D)             (None, 150, 150, 16)      1216      \n",
            "                                                                 \n",
            " max_pooling2d (MaxPooling2  (None, 75, 75, 16)        0         \n",
            " D)                                                              \n",
            "                                                                 \n",
            " dropout (Dropout)           (None, 75, 75, 16)        0         \n",
            "                                                                 \n",
            " batch_normalization (Batch  (None, 75, 75, 16)        64        \n",
            " Normalization)                                                  \n",
            "                                                                 \n",
            " conv2d_1 (Conv2D)           (None, 75, 75, 32)        4640      \n",
            "                                                                 \n",
            " max_pooling2d_1 (MaxPoolin  (None, 37, 37, 32)        0         \n",
            " g2D)                                                            \n",
            "                                                                 \n",
            " dropout_1 (Dropout)         (None, 37, 37, 32)        0         \n",
            "                                                                 \n",
            " conv2d_2 (Conv2D)           (None, 37, 37, 64)        18496     \n",
            "                                                                 \n",
            " max_pooling2d_2 (MaxPoolin  (None, 18, 18, 64)        0         \n",
            " g2D)                                                            \n",
            "                                                                 \n",
            " dropout_2 (Dropout)         (None, 18, 18, 64)        0         \n",
            "                                                                 \n",
            " flatten (Flatten)           (None, 20736)             0         \n",
            "                                                                 \n",
            " dense (Dense)               (None, 64)                1327168   \n",
            "                                                                 \n",
            " dropout_3 (Dropout)         (None, 64)                0         \n",
            "                                                                 \n",
            " dense_1 (Dense)             (None, 5)                 325       \n",
            "                                                                 \n",
            "=================================================================\n",
            "Total params: 1351909 (5.16 MB)\n",
            "Trainable params: 1351877 (5.16 MB)\n",
            "Non-trainable params: 32 (128.00 Byte)\n",
            "_________________________________________________________________\n"
          ]
        }
      ]
    },
    {
      "cell_type": "code",
      "source": [
        "from tensorflow.keras.callbacks import Callback, EarlyStopping"
      ],
      "metadata": {
        "id": "3rTfyX1zCL1a"
      },
      "execution_count": 29,
      "outputs": []
    },
    {
      "cell_type": "code",
      "source": [
        "#callback\n",
        "class TargetCallback(Callback):\n",
        "  def on_epoch_end(self, epoch, logs={}):\n",
        "    if(logs.get('accuracy') >= 0.95 and logs.get('val_accuracy') >= 0.95):\n",
        "      print(\"\\nAccuracy and Validation Accuracy has reached 95%!\\nStop Train!\")\n",
        "      self.model.stop_training = True\n",
        "Target = TargetCallback()\n",
        "\n",
        "EarlyStop = EarlyStopping(\n",
        "    monitor = 'val_loss',\n",
        "    min_delta = 0.0001,\n",
        "    patience = 5,\n",
        "    verbose = 1,\n",
        "    mode = 'auto'\n",
        ")"
      ],
      "metadata": {
        "id": "m94Zyf9oCNhu"
      },
      "execution_count": 30,
      "outputs": []
    },
    {
      "cell_type": "code",
      "source": [
        "History = model.fit(train_generator, epochs =  100, validation_data = val_generator, callbacks = [Target, EarlyStop], verbose = 1)"
      ],
      "metadata": {
        "colab": {
          "base_uri": "https://localhost:8080/"
        },
        "id": "04lTMVLIC6ZK",
        "outputId": "fd149803-61c4-498e-81b4-de13f88e8347"
      },
      "execution_count": 31,
      "outputs": [
        {
          "output_type": "stream",
          "name": "stdout",
          "text": [
            "Epoch 1/100\n",
            "858/858 [==============================] - 2261s 3s/step - loss: 0.2405 - accuracy: 0.9164 - val_loss: 0.1000 - val_accuracy: 0.9621\n",
            "Epoch 2/100\n",
            "858/858 [==============================] - ETA: 0s - loss: 0.1245 - accuracy: 0.9585\n",
            "Accuracy and Validation Accuracy has reached 95%!\n",
            "Stop Train!\n",
            "858/858 [==============================] - 2327s 3s/step - loss: 0.1245 - accuracy: 0.9585 - val_loss: 0.0828 - val_accuracy: 0.9729\n"
          ]
        }
      ]
    },
    {
      "cell_type": "code",
      "source": [
        "import matplotlib.pyplot as plt"
      ],
      "metadata": {
        "id": "Je-ASJg5U8si"
      },
      "execution_count": 32,
      "outputs": []
    },
    {
      "cell_type": "code",
      "source": [
        "print(\"Loss with Val_Loss Graph\")\n",
        "plt.plot(History.history['loss'])\n",
        "plt.plot(History.history['val_loss'])\n",
        "plt.title('Model Loss')\n",
        "plt.ylabel('Loss')\n",
        "plt.xlabel('Epochs')\n",
        "plt.legend(['train', 'test'], loc = 'upper right')\n",
        "plt.show()"
      ],
      "metadata": {
        "colab": {
          "base_uri": "https://localhost:8080/",
          "height": 489
        },
        "id": "dcUPfYOyVMfO",
        "outputId": "b03f6d63-e5e7-4961-c39e-5859c5410b31"
      },
      "execution_count": 33,
      "outputs": [
        {
          "output_type": "stream",
          "name": "stdout",
          "text": [
            "Loss with Val_Loss Graph\n"
          ]
        },
        {
          "output_type": "display_data",
          "data": {
            "text/plain": [
              "<Figure size 640x480 with 1 Axes>"
            ],
            "image/png": "[encoded data removed]"
          },
          "metadata": {}
        }
      ]
    },
    {
      "cell_type": "code",
      "source": [
        "print(\"Acc with Val_Acc Graph\")\n",
        "plt.plot(History.history['accuracy'])\n",
        "plt.plot(History.history['val_accuracy'])\n",
        "plt.title('Model Accuracy')\n",
        "plt.ylabel('Accuracy')\n",
        "plt.xlabel('Epoch')\n",
        "plt.legend(['train', 'test'], loc='lower right')\n",
        "plt.show()"
      ],
      "metadata": {
        "colab": {
          "base_uri": "https://localhost:8080/",
          "height": 489
        },
        "id": "iH70V7ThVU0C",
        "outputId": "5e72e709-ed67-458c-eb72-f138e278e2a0"
      },
      "execution_count": 34,
      "outputs": [
        {
          "output_type": "stream",
          "name": "stdout",
          "text": [
            "Acc with Val_Acc Graph\n"
          ]
        },
        {
          "output_type": "display_data",
          "data": {
            "text/plain": [
              "<Figure size 640x480 with 1 Axes>"
            ],
            "image/png": "[encoded data removed]"
          },
          "metadata": {}
        }
      ]
    },
    {
      "cell_type": "code",
      "source": [
        "import tensorflow as tf\n",
        "import pathlib"
      ],
      "metadata": {
        "id": "O1iPMuT-VfC2"
      },
      "execution_count": 35,
      "outputs": []
    },
    {
      "cell_type": "code",
      "source": [
        "#Save Model\n",
        "export_dir = 'saved_model/'\n",
        "tf.saved_model.save(model, export_dir)\n",
        "\n",
        "converter = tf.lite.TFLiteConverter.from_saved_model(export_dir)\n",
        "tflite_model = converter.convert()\n",
        "\n",
        "tflite_model_file = pathlib.Path('Model.tflite')\n",
        "tflite_model_file.write_bytes(tflite_model)"
      ],
      "metadata": {
        "colab": {
          "base_uri": "https://localhost:8080/"
        },
        "id": "QzrbQkocVjNZ",
        "outputId": "7db33e4c-8bd3-403f-a8fa-e42ce4fc20c5"
      },
      "execution_count": 36,
      "outputs": [
        {
          "output_type": "execute_result",
          "data": {
            "text/plain": [
              "5412200"
            ]
          },
          "metadata": {},
          "execution_count": 36
        }
      ]
    }
  ]
}